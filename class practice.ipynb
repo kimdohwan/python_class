{
 "cells": [
  {
   "cell_type": "code",
   "execution_count": 1,
   "metadata": {},
   "outputs": [],
   "source": [
    "class Library:\n",
    "    book_list = {}\n",
    "    def __init__(self, name, book_list = 5):\n",
    "        self.name = name\n",
    "        self.book_list = book_list\n",
    "        \n",
    "    def add_book(self, user):\n",
    "        self.book_list += 1\n",
    "        user.book_list -= 1\n",
    "        print('도서관 보유: {}권\\n사용자 보유: {}권'.format(self.book_list, user.book_list))\n",
    "        \n",
    "    def remove_book(self, user):\n",
    "        self.book_list -= 1\n",
    "        user.book_list += 1\n",
    "        print('도서관 보유: {}권\\n사용자 보유: {}권'.format(self.book_list, user.book_list))            \n",
    "    \n",
    "    def info(self):\n",
    "        print('어느도서관? {}\\n 책은 얼마나? {}\\n'.format(self.name, self.book_list))\n",
    "# class Book:\n",
    "#     def __init__(self, title, location):\n",
    "#         self.title = title\n",
    "#         self.location = location\n",
    "    \n",
    "    \n",
    "class User:\n",
    "    def __init__(self, name, book_list = 0):\n",
    "        self.name = name\n",
    "        self.book_list = book_list\n",
    "        \n",
    "    def get_book(self, library):\n",
    "        self.book_list += 1\n",
    "        library.book_list -= 1\n",
    "        print(self.book_list, library.book_list)\n",
    "        \n",
    "#     def borrow_book(self, library, book_list):\n",
    "        "
   ]
  },
  {
   "cell_type": "code",
   "execution_count": 2,
   "metadata": {},
   "outputs": [],
   "source": [
    "place = Library('호평도서관')\n",
    "me = User('나')"
   ]
  },
  {
   "cell_type": "code",
   "execution_count": 3,
   "metadata": {},
   "outputs": [
    {
     "name": "stdout",
     "output_type": "stream",
     "text": [
      "도서관 보유: 6권\n",
      "사용자 보유: -1권\n"
     ]
    }
   ],
   "source": [
    "place.add_book(me)"
   ]
  },
  {
   "cell_type": "code",
   "execution_count": 4,
   "metadata": {},
   "outputs": [
    {
     "data": {
      "text/plain": [
       "-1"
      ]
     },
     "execution_count": 4,
     "metadata": {},
     "output_type": "execute_result"
    }
   ],
   "source": [
    "me.book_list"
   ]
  },
  {
   "cell_type": "code",
   "execution_count": 5,
   "metadata": {},
   "outputs": [
    {
     "ename": "NameError",
     "evalue": "name 'A' is not defined",
     "output_type": "error",
     "traceback": [
      "\u001b[0;31m---------------------------------------------------------------------------\u001b[0m",
      "\u001b[0;31mNameError\u001b[0m                                 Traceback (most recent call last)",
      "\u001b[0;32m<ipython-input-5-53cba3749d51>\u001b[0m in \u001b[0;36m<module>\u001b[0;34m()\u001b[0m\n\u001b[0;32m----> 1\u001b[0;31m \u001b[0mA\u001b[0m\u001b[0;34m.\u001b[0m\u001b[0mremove_book\u001b[0m\u001b[0;34m(\u001b[0m\u001b[0mme\u001b[0m\u001b[0;34m)\u001b[0m\u001b[0;34m\u001b[0m\u001b[0m\n\u001b[0m",
      "\u001b[0;31mNameError\u001b[0m: name 'A' is not defined"
     ]
    }
   ],
   "source": [
    "A.remove_book(me)"
   ]
  },
  {
   "cell_type": "code",
   "execution_count": null,
   "metadata": {},
   "outputs": [],
   "source": [
    "place.book_list"
   ]
  },
  {
   "cell_type": "code",
   "execution_count": null,
   "metadata": {},
   "outputs": [],
   "source": [
    "place.info()"
   ]
  },
  {
   "cell_type": "code",
   "execution_count": null,
   "metadata": {},
   "outputs": [],
   "source": [
    "me.get_book(place)"
   ]
  },
  {
   "cell_type": "code",
   "execution_count": null,
   "metadata": {},
   "outputs": [],
   "source": [
    "me.book_list"
   ]
  },
  {
   "cell_type": "code",
   "execution_count": 397,
   "metadata": {},
   "outputs": [],
   "source": [
    "class Library:\n",
    "    \n",
    "    available_book = ['12049140']\n",
    "    \n",
    "    def __init__(self, name, book_list = []):\n",
    "        self.name = name\n",
    "        self.book_list = book_list\n",
    "        \n",
    "    def add_book(self, book):\n",
    "        global available_book\n",
    "        print(available_book)\n",
    "        book.location = self.name\n",
    "        \n",
    "    def info(self):\n",
    "        available_book = self.book_list\n",
    "        print(available_book)\n",
    "#         return available_book\n",
    "#클래스정의하자마자 북5권 만들고 바로 도서관 북리스트와 인포에넣어준다\n",
    "# 그리고 북리스트는 냅두고 인포를 통해 add와 remove를 관리한다 \n",
    "# 북 add와 remove는 정의만 도서관에서하고 호출은 유져에서 하게한다 여기서 건드는 북리스트는 인포쪽 리스트이다\n",
    "        \n",
    "\n",
    "class Book:\n",
    "    def __init__(self, title, location):\n",
    "        self.title = title\n",
    "        self.location = location\n",
    "        \n",
    "        \n",
    "class User:\n",
    "    def __init__(self, name, book_list = []):\n",
    "        self.name = name\n",
    "        self.book_list = book_list\n",
    "        \n",
    "    def borrow_book(self, library, book_title):\n",
    "        library.book_list.remove(book_title)\n",
    "        self.book_list.append(book_title)\n",
    "        print('도환 대여중: {}\\n호평도서관 보유중:{}'.format(self.book_list, library.book_list))\n",
    "        \n",
    "place = Library('호평도서관')\n",
    "\n",
    "\n",
    "book1 = Book('창문을 넘어선 100세 노인', '호평도서관')\n",
    "book2 = Book('달콤한 노래', '호평도서관')\n",
    "book3 = Book('고령화 가족', '호평도서관')\n",
    "book4 = Book('그리스인 조르바', '호평도서관')\n",
    "book5 = Book('Born to run', '호평도서관')\n",
    "\n",
    "me = User('도환')\n",
    "\n",
    "place.book_list.append(book1.title)\n",
    "place.book_list.append(book2.title)\n",
    "place.book_list.append(book3.title)\n",
    "place.book_list.append(book4.title)\n",
    "place.book_list.append(book5.title)\n"
   ]
  },
  {
   "cell_type": "code",
   "execution_count": 400,
   "metadata": {},
   "outputs": [
    {
     "name": "stdout",
     "output_type": "stream",
     "text": [
      "['창문을 넘어선 100세 노인', '달콤한 노래', '고령화 가족', '그리스인 조르바', 'Born to run']\n",
      "['창문을 넘어선 100세 노인', '달콤한 노래', '고령화 가족', '그리스인 조르바', 'Born to run']\n"
     ]
    },
    {
     "ename": "NameError",
     "evalue": "name 'available_book' is not defined",
     "output_type": "error",
     "traceback": [
      "\u001b[0;31m---------------------------------------------------------------------------\u001b[0m",
      "\u001b[0;31mNameError\u001b[0m                                 Traceback (most recent call last)",
      "\u001b[0;32m<ipython-input-400-b2d518a79ebc>\u001b[0m in \u001b[0;36m<module>\u001b[0;34m()\u001b[0m\n\u001b[1;32m      2\u001b[0m \u001b[0mplace\u001b[0m\u001b[0;34m.\u001b[0m\u001b[0minfo\u001b[0m\u001b[0;34m(\u001b[0m\u001b[0;34m)\u001b[0m\u001b[0;34m\u001b[0m\u001b[0m\n\u001b[1;32m      3\u001b[0m \u001b[0;34m\u001b[0m\u001b[0m\n\u001b[0;32m----> 4\u001b[0;31m \u001b[0mplace\u001b[0m\u001b[0;34m.\u001b[0m\u001b[0madd_book\u001b[0m\u001b[0;34m(\u001b[0m\u001b[0mbook1\u001b[0m\u001b[0;34m)\u001b[0m\u001b[0;34m\u001b[0m\u001b[0m\n\u001b[0m",
      "\u001b[0;32m<ipython-input-397-275ac1ea2142>\u001b[0m in \u001b[0;36madd_book\u001b[0;34m(self, book)\u001b[0m\n\u001b[1;32m      9\u001b[0m     \u001b[0;32mdef\u001b[0m \u001b[0madd_book\u001b[0m\u001b[0;34m(\u001b[0m\u001b[0mself\u001b[0m\u001b[0;34m,\u001b[0m \u001b[0mbook\u001b[0m\u001b[0;34m)\u001b[0m\u001b[0;34m:\u001b[0m\u001b[0;34m\u001b[0m\u001b[0m\n\u001b[1;32m     10\u001b[0m         \u001b[0;32mglobal\u001b[0m \u001b[0mavailable_book\u001b[0m\u001b[0;34m\u001b[0m\u001b[0m\n\u001b[0;32m---> 11\u001b[0;31m         \u001b[0mprint\u001b[0m\u001b[0;34m(\u001b[0m\u001b[0mavailable_book\u001b[0m\u001b[0;34m)\u001b[0m\u001b[0;34m\u001b[0m\u001b[0m\n\u001b[0m\u001b[1;32m     12\u001b[0m         \u001b[0mbook\u001b[0m\u001b[0;34m.\u001b[0m\u001b[0mlocation\u001b[0m \u001b[0;34m=\u001b[0m \u001b[0mself\u001b[0m\u001b[0;34m.\u001b[0m\u001b[0mname\u001b[0m\u001b[0;34m\u001b[0m\u001b[0m\n\u001b[1;32m     13\u001b[0m \u001b[0;34m\u001b[0m\u001b[0m\n",
      "\u001b[0;31mNameError\u001b[0m: name 'available_book' is not defined"
     ]
    }
   ],
   "source": [
    "print(place.book_list)\n",
    "place.info()\n",
    "\n",
    "place.add_book(book1)"
   ]
  }
 ],
 "metadata": {
  "kernelspec": {
   "display_name": "Python 3",
   "language": "python",
   "name": "python3"
  },
  "language_info": {
   "codemirror_mode": {
    "name": "ipython",
    "version": 3
   },
   "file_extension": ".py",
   "mimetype": "text/x-python",
   "name": "python",
   "nbconvert_exporter": "python",
   "pygments_lexer": "ipython3",
   "version": "3.6.5"
  }
 },
 "nbformat": 4,
 "nbformat_minor": 2
}
