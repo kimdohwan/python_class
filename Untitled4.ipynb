{
 "cells": [
  {
   "cell_type": "code",
   "execution_count": 40,
   "metadata": {},
   "outputs": [],
   "source": [
    "class Shop:\n",
    "    def __init__(self, name, shop_type, address):\n",
    "        self.name = name\n",
    "        self.__shop_type = shop_type\n",
    "        self.address = address\n",
    "        \n",
    "    def show_info(self):\n",
    "        print(f'상점정보: {self.name}')\n",
    "        print(f'유형: {self.shop_type}')\n",
    "        print(f'주소: {self.address}')\n",
    "        \n",
    "    def change_type(self, new_shop_type):\n",
    "        self.__shop_type = new_shop_type\n",
    "        \n",
    "    def get_shop_type(self):\n",
    "        return self.__shop_type\n",
    "    \n",
    "    def set_shop_type(self, new_shop_type):\n",
    "        shop_type_list = ['레스토랑', '패스트푸드']\n",
    "        if new_shop_type in shop_type_list:\n",
    "            self.__shop_type = new_shop_type\n",
    "        else:\n",
    "            print('입력하신 유형 {}은 사용할 수 없습니다'.format(new_shop_type))\n",
    "                \n",
    "    @property\n",
    "    def shop_type(self):\n",
    "        return self.__shop_type\n",
    "    \n",
    "    @shop_type.setter\n",
    "    def shop_type(self, new_shop_type):\n",
    "        self.__shop_type = new_shop_type\n",
    "        print('새 상점 유형 {}적용'.format(new_shop_type))\n",
    "        "
   ]
  },
  {
   "cell_type": "code",
   "execution_count": 61,
   "metadata": {},
   "outputs": [
    {
     "name": "stdout",
     "output_type": "stream",
     "text": [
      "상점정보: a\n",
      "유형: b\n",
      "주소: c\n",
      "레스토랑\n",
      "a\n",
      "새 상점 유형 g적용\n",
      "g\n",
      "입력하신 유형 ho은 사용할 수 없습니다\n",
      "레스토랑\n"
     ]
    }
   ],
   "source": [
    "lotteria = Shop(name = 'a', shop_type = 'b', address = 'c')\n",
    "lotteria.show_info()\n",
    "lotteria.change_type('레스토랑')\n",
    "print(lotteria.shop_type)\n",
    "lotteria.change_type('a')\n",
    "print(lotteria.shop_type)\n",
    "lotteria.shop_type = 'g'\n",
    "print(lotteria.shop_type)\n",
    "\n",
    "subway = Shop('1', '2', '3')\n",
    "subway.set_shop_type('ho')\n",
    "subway.set_shop_type('레스토랑')\n",
    "print(subway.shop_type)\n"
   ]
  },
  {
   "cell_type": "code",
   "execution_count": 62,
   "metadata": {},
   "outputs": [],
   "source": [
    "class Shop:\n",
    "    def __init__(self, name, shop_type, address):\n",
    "        self.name = name\n",
    "        self._shop_type = shop_type\n",
    "        self.address = address\n",
    "        \n",
    "    @property\n",
    "    def info(self):\n",
    "        return (\n",
    "            f'상점 {self.name}\\n'\n",
    "            f'상점 {self._shop_type}\\n'\n",
    "            f'상점 {self.address}\\n'\n",
    "        )\n",
    "    \n",
    "    def show_info(self):\n",
    "        print(self.info)\n",
    "    \n",
    "    @property\n",
    "    def shop_type(self):\n",
    "        return self._shop_type\n",
    "    \n",
    "    @shop_type.setter\n",
    "    def shop_type(self, new_shop_type):\n",
    "        self._shop_type = new_shop_type\n",
    "        print('새 상점 유형 {new_shop_type}적용')"
   ]
  },
  {
   "cell_type": "code",
   "execution_count": 94,
   "metadata": {},
   "outputs": [],
   "source": [
    "class Product:\n",
    "    def __init__(self, name, original_price, discount):\n",
    "        self.name = name\n",
    "        self.original_price = original_price\n",
    "        self.discount = discount\n",
    "        \n",
    "    @property\n",
    "    def price(self):\n",
    "        return int(self.original_price * (self.discount // 100))"
   ]
  },
  {
   "cell_type": "code",
   "execution_count": 95,
   "metadata": {},
   "outputs": [],
   "source": [
    "gallaxy = Product( 'aa', 1000000, 30)"
   ]
  },
  {
   "cell_type": "code",
   "execution_count": 96,
   "metadata": {},
   "outputs": [
    {
     "data": {
      "text/plain": [
       "0"
      ]
     },
     "execution_count": 96,
     "metadata": {},
     "output_type": "execute_result"
    }
   ],
   "source": [
    "gallaxy.price"
   ]
  },
  {
   "cell_type": "code",
   "execution_count": null,
   "metadata": {},
   "outputs": [],
   "source": []
  },
  {
   "cell_type": "code",
   "execution_count": null,
   "metadata": {},
   "outputs": [],
   "source": []
  },
  {
   "cell_type": "code",
   "execution_count": 82,
   "metadata": {},
   "outputs": [],
   "source": [
    "class Product:\n",
    "    def __init__(self, name, original_price, discount):\n",
    "        self.name = name\n",
    "        self.original_price = original_price\n",
    "        self.discount = discount\n",
    "        \n",
    "    @property\n",
    "    def price(self):\n",
    "        return int(self.original_price * (self.discount / 100))"
   ]
  },
  {
   "cell_type": "code",
   "execution_count": 83,
   "metadata": {},
   "outputs": [],
   "source": [
    "iphone = Product('아이폰X', 1000000, 30)\n"
   ]
  },
  {
   "cell_type": "code",
   "execution_count": 84,
   "metadata": {},
   "outputs": [
    {
     "data": {
      "text/plain": [
       "300000"
      ]
     },
     "execution_count": 84,
     "metadata": {},
     "output_type": "execute_result"
    }
   ],
   "source": [
    "iphone.price"
   ]
  },
  {
   "cell_type": "code",
   "execution_count": null,
   "metadata": {},
   "outputs": [],
   "source": []
  }
 ],
 "metadata": {
  "kernelspec": {
   "display_name": "Python 3",
   "language": "python",
   "name": "python3"
  },
  "language_info": {
   "codemirror_mode": {
    "name": "ipython",
    "version": 3
   },
   "file_extension": ".py",
   "mimetype": "text/x-python",
   "name": "python",
   "nbconvert_exporter": "python",
   "pygments_lexer": "ipython3",
   "version": "3.6.5"
  }
 },
 "nbformat": 4,
 "nbformat_minor": 2
}
